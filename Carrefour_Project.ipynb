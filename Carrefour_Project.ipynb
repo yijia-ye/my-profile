{
  "cells": [
    {
      "cell_type": "markdown",
      "metadata": {
        "id": "view-in-github",
        "colab_type": "text"
      },
      "source": [
        "<a href=\"https://colab.research.google.com/github/yijia-ye/my-profile/blob/main/Carrefour_Project.ipynb\" target=\"_parent\"><img src=\"https://colab.research.google.com/assets/colab-badge.svg\" alt=\"Open In Colab\"/></a>"
      ]
    },
    {
      "cell_type": "markdown",
      "source": [
        "**Background information in business context**\n",
        "\n",
        "We are about to **release a new product** Frozen Jamón y Queso Paella in all Carrefour stores in Spain. The marketing teqam is currently devising a strategy to **market the new  product to our 250.000 Loyalty Rewards Card holders**. \n",
        "\n",
        "**Costs and profts information:**\n",
        "\n",
        "Price: 20 Euros\n",
        "\n",
        "COGS: 9 Euros\n",
        "\n",
        "Unit Profit Margin: 11 Euros\n",
        "\n",
        "Mail Advertisement Cost: 3 Euros\n",
        "\n",
        "E-mail Advertisement Cost: 0 Euros"
      ],
      "metadata": {
        "id": "OTvU6IRsqRqB"
      },
      "id": "OTvU6IRsqRqB"
    },
    {
      "cell_type": "markdown",
      "source": [
        "**First Step: Define our goal**\n",
        "\n",
        "choose the most efficient strategy for marketing and maximize the profits "
      ],
      "metadata": {
        "id": "7Lv48oVKsb8M"
      },
      "id": "7Lv48oVKsb8M"
    },
    {
      "cell_type": "markdown",
      "source": [
        "**Second Step: Data Preparation**\n",
        "\n",
        "import our .csv sources and clean the data"
      ],
      "metadata": {
        "id": "XQiSr6pprkIF"
      },
      "id": "XQiSr6pprkIF"
    },
    {
      "cell_type": "code",
      "execution_count": null,
      "metadata": {
        "id": "baa27e15"
      },
      "outputs": [],
      "source": [
        "import datetime as dt\n",
        "import numpy as np\n",
        "import pandas as pd\n",
        "import matplotlib.pyplot as plt\n",
        "import seaborn as sns\n",
        "\n",
        "%matplotlib inline"
      ],
      "id": "baa27e15"
    },
    {
      "cell_type": "code",
      "execution_count": null,
      "metadata": {
        "id": "lbxZ7m1qKFWJ"
      },
      "outputs": [],
      "source": [
        "marketingpg = pd.read_csv('marketing_campaign.csv', sep = ';', encoding = 'utf8')\n",
        "\n",
        "marketingpg.head(50)"
      ],
      "id": "lbxZ7m1qKFWJ"
    },
    {
      "cell_type": "markdown",
      "source": [
        "It is noticeable that there are several unrelevante colums in the orignial table. Now we use .drop to edit our tables.\n",
        "\n",
        "We delete ID, Dt_Customer(when they become loyal customer), Complain and Z_CostContact. \n",
        "\n",
        "We assume that education in this case is less important, as no matter what degree our loyal customers have, they have to eat at least something to keep alive.\n"
      ],
      "metadata": {
        "id": "WisbqLyjvOGJ"
      },
      "id": "WisbqLyjvOGJ"
    },
    {
      "cell_type": "code",
      "source": [
        "marketingpg.dropna(axis=0, how = 'any', inplace = True)"
      ],
      "metadata": {
        "id": "N12nndueqHQI"
      },
      "id": "N12nndueqHQI",
      "execution_count": null,
      "outputs": []
    },
    {
      "cell_type": "code",
      "source": [
        "marketingpgmodi = marketingpg.drop(columns=['Education','ID','Dt_Customer','Complain','Z_CostContact','Z_Revenue'])"
      ],
      "metadata": {
        "id": "H9x-ZwwfyQE-"
      },
      "id": "H9x-ZwwfyQE-",
      "execution_count": null,
      "outputs": []
    },
    {
      "cell_type": "code",
      "source": [
        "marketingpgmodi['Marital_Status'] = marketingpgmodi['Marital_Status'].str.replace('Together','Household')\n",
        "marketingpgmodi['Marital_Status'] = marketingpgmodi['Marital_Status'].str.replace('Married','Household')\n",
        "marketingpgmodi['Marital_Status'] = marketingpgmodi['Marital_Status'].str.replace('Single','One Person')\n",
        "marketingpgmodi['Marital_Status'] = marketingpgmodi['Marital_Status'].str.replace('Divorced','One Person')\n",
        "marketingpgmodi['Marital_Status'] = marketingpgmodi['Marital_Status'].str.replace('Widow','One Person')"
      ],
      "metadata": {
        "id": "MeXborY3QFq_"
      },
      "id": "MeXborY3QFq_",
      "execution_count": null,
      "outputs": []
    },
    {
      "cell_type": "code",
      "source": [
        "marketingpgmodi['Year_Birth'] = 2022 - marketingpgmodi['Year_Birth']\n",
        "marketingpgmodi = marketingpgmodi.rename(columns = {'Year_Birth':'Age'})"
      ],
      "metadata": {
        "id": "fwucBfYCQKMM"
      },
      "id": "fwucBfYCQKMM",
      "execution_count": null,
      "outputs": []
    },
    {
      "cell_type": "code",
      "source": [
        "marketingpgmodi['Total Purchase'] = marketingpgmodi['MntWines']+ marketingpgmodi['MntFruits']+marketingpgmodi['MntMeatProducts']+marketingpgmodi['MntFishProducts'] + marketingpgmodi['MntSweetProducts']"
      ],
      "metadata": {
        "id": "qCm-A00NQ-9_"
      },
      "id": "qCm-A00NQ-9_",
      "execution_count": null,
      "outputs": []
    },
    {
      "cell_type": "code",
      "source": [
        "marketingpgmodi = marketingpgmodi.drop(columns=['MntWines','MntFruits','MntMeatProducts','MntFishProducts','MntSweetProducts'])"
      ],
      "metadata": {
        "id": "lK_F_tXtfSoB"
      },
      "id": "lK_F_tXtfSoB",
      "execution_count": null,
      "outputs": []
    },
    {
      "cell_type": "code",
      "source": [
        "marketingpgmodi.head(50)"
      ],
      "metadata": {
        "id": "xRe8N9y9QTGv"
      },
      "id": "xRe8N9y9QTGv",
      "execution_count": null,
      "outputs": []
    },
    {
      "cell_type": "code",
      "source": [
        "pd.get_dummies(marketingpgmodi.Marital_Status)[['One Person','Household']]"
      ],
      "metadata": {
        "id": "_z0J47J_5wHm"
      },
      "id": "_z0J47J_5wHm",
      "execution_count": null,
      "outputs": []
    },
    {
      "cell_type": "code",
      "source": [
        "is_OnePerson = pd.get_dummies(marketingpgmodi.Marital_Status)['One Person']\n",
        "is_OnePerson.head()"
      ],
      "metadata": {
        "id": "v5gBHcq0DHAF"
      },
      "id": "v5gBHcq0DHAF",
      "execution_count": null,
      "outputs": []
    },
    {
      "cell_type": "code",
      "source": [
        "marketingpgmodi['Marital_Status'] = is_OnePerson"
      ],
      "metadata": {
        "id": "7nxHz5oZgxoD"
      },
      "id": "7nxHz5oZgxoD",
      "execution_count": null,
      "outputs": []
    },
    {
      "cell_type": "code",
      "source": [
        "marketingpgmodi.head(50)"
      ],
      "metadata": {
        "id": "vs4P1fXChuBx"
      },
      "id": "vs4P1fXChuBx",
      "execution_count": null,
      "outputs": []
    },
    {
      "cell_type": "markdown",
      "source": [
        "**Third Step: Creat Model**"
      ],
      "metadata": {
        "id": "ahSyLYw5vmpb"
      },
      "id": "ahSyLYw5vmpb"
    },
    {
      "cell_type": "code",
      "source": [
        "from sklearn.linear_model import LogisticRegression\n",
        "model = LogisticRegression(solver='lbfgs')"
      ],
      "metadata": {
        "id": "5Q3VZ64vlsmX"
      },
      "id": "5Q3VZ64vlsmX",
      "execution_count": null,
      "outputs": []
    },
    {
      "cell_type": "code",
      "source": [
        "X = marketingpgmodi.drop(['Response'], axis=1)\n",
        "Y = marketingpgmodi['Response']"
      ],
      "metadata": {
        "id": "nUvKC2YzmSb_"
      },
      "id": "nUvKC2YzmSb_",
      "execution_count": null,
      "outputs": []
    },
    {
      "cell_type": "code",
      "source": [
        "from sklearn.model_selection import train_test_split  \n",
        "\n",
        "X_train, X_test, Y_train, Y_test = train_test_split(X, Y, test_size=.25, random_state=92)"
      ],
      "metadata": {
        "id": "oXqEwFvFly80"
      },
      "id": "oXqEwFvFly80",
      "execution_count": null,
      "outputs": []
    },
    {
      "cell_type": "code",
      "source": [
        "model.fit(X_train, Y_train)\n",
        "\n",
        "print(model.intercept_)\n",
        "model.coef_"
      ],
      "metadata": {
        "id": "IadiBsiqnP-r"
      },
      "id": "IadiBsiqnP-r",
      "execution_count": null,
      "outputs": []
    },
    {
      "cell_type": "code",
      "source": [
        "model.score(X_test,Y_test)"
      ],
      "metadata": {
        "id": "HfZcLbWRnVP-"
      },
      "id": "HfZcLbWRnVP-",
      "execution_count": null,
      "outputs": []
    },
    {
      "cell_type": "markdown",
      "source": [
        "**Fourth Step: Interpret our Model**"
      ],
      "metadata": {
        "id": "7T0Dj_GbwN8V"
      },
      "id": "7T0Dj_GbwN8V"
    },
    {
      "cell_type": "code",
      "source": [
        "sns.boxplot(y=\"Age\",x=\"Response\",hue=\"Marital_Status\",data= marketingpgmodi )\n",
        "plt.ylim(0, 90)"
      ],
      "metadata": {
        "id": "9jrp8Oo4dnld"
      },
      "id": "9jrp8Oo4dnld",
      "execution_count": null,
      "outputs": []
    },
    {
      "cell_type": "markdown",
      "source": [
        "From this plot, we can tell that age distribution and maritual status are not very informative for predicting the purchase decision of a customer.\n",
        "\n",
        "If we turn to income and the marital status of our loyal customers, we could see a more significant influence of income. "
      ],
      "metadata": {
        "id": "8WqcwB0ziXWl"
      },
      "id": "8WqcwB0ziXWl"
    },
    {
      "cell_type": "code",
      "source": [
        "sns.boxplot(y=\"Income\",x=\"Response\",hue=\"Marital_Status\",data= marketingpgmodi)\n",
        "plt.ylim(0, 120000)"
      ],
      "metadata": {
        "id": "zxOI6jCTlKl-"
      },
      "id": "zxOI6jCTlKl-",
      "execution_count": null,
      "outputs": []
    },
    {
      "cell_type": "code",
      "source": [
        "features = ['Age','Marital_Status','Income']\n",
        "sns.pairplot(marketingpgmodi, vars = features, hue ='Response')"
      ],
      "metadata": {
        "id": "wiMFh6_ZkvNE"
      },
      "id": "wiMFh6_ZkvNE",
      "execution_count": null,
      "outputs": []
    },
    {
      "cell_type": "markdown",
      "source": [
        "Considering our business problem, it is important for us to check the precision and recall of this model. We want to keep the mail target as precise as possible, so that we won't waste our marketing budget on those customers who will not buy our new product.\n",
        "\n",
        "Let's check the confusion matrix."
      ],
      "metadata": {
        "id": "HNo4VDXr8d2t"
      },
      "id": "HNo4VDXr8d2t"
    },
    {
      "cell_type": "markdown",
      "source": [
        "We have to know that the logistic regression model writes the probability that a customer purchases our new product, as a function of the different parameters."
      ],
      "metadata": {
        "id": "S1BZGlsCnVbI"
      },
      "id": "S1BZGlsCnVbI"
    },
    {
      "cell_type": "code",
      "source": [
        "probabilities = model.predict_proba(X_test)\n",
        "probabilities[0]"
      ],
      "metadata": {
        "id": "V-mUdrU_lrE1"
      },
      "id": "V-mUdrU_lrE1",
      "execution_count": null,
      "outputs": []
    },
    {
      "cell_type": "markdown",
      "source": [
        "So the first customer in the test set has a probability of 0.99 of purchasing.\n",
        "To make actual predictions, we need to fix a threshold on the probability of survival, above which we predict that a customer purchases.\n",
        "Let's fix this cut-off value to 1/2."
      ],
      "metadata": {
        "id": "Ft-fmR9On75a"
      },
      "id": "Ft-fmR9On75a"
    },
    {
      "cell_type": "code",
      "source": [
        "prediction = probabilities[:,1]> 0.5"
      ],
      "metadata": {
        "id": "Z_6Pzoj6l_cb"
      },
      "id": "Z_6Pzoj6l_cb",
      "execution_count": null,
      "outputs": []
    },
    {
      "cell_type": "code",
      "source": [
        "from sklearn import metrics\n",
        "\n",
        "metrics.confusion_matrix(Y_test, prediction)"
      ],
      "metadata": {
        "id": "BvNqnz4_8c2f"
      },
      "id": "BvNqnz4_8c2f",
      "execution_count": null,
      "outputs": []
    },
    {
      "cell_type": "markdown",
      "source": [
        "The confusion matrix above tells us where the 14% of classification errors occur. \n",
        "\n",
        "How many individuals are predicted to purchase?  **461+13 = 474**\n",
        "\n",
        "How many individuals are treuly predicted to purchase?  **461**\n",
        "\n",
        "How many individuals are wrongly predicted to purchase (false positive)? **13**\n",
        "\n",
        "By dividing 474 with 461, we can gain the **precision** of **97%**.\n",
        "\n",
        "By dividing 554 with 476, we can calculate the **accurary** of **86%**."
      ],
      "metadata": {
        "id": "6UsJC2cXoLCE"
      },
      "id": "6UsJC2cXoLCE"
    },
    {
      "cell_type": "code",
      "source": [
        "fpr, tpr, thresholds = metrics.roc_curve(Y_test,probabilities[:,1])\n",
        "plt.plot(fpr, tpr)\n",
        "    \n",
        "plt.xlabel(\"False positive rate (fpr)\")\n",
        "plt.ylabel(\"True positive rate (tpr)\")\n",
        "plt.plot([0,1], [0,1], 'k--', label=\"Random\")\n",
        "plt.legend()"
      ],
      "metadata": {
        "id": "OF9mDeFNmOqq"
      },
      "id": "OF9mDeFNmOqq",
      "execution_count": null,
      "outputs": []
    },
    {
      "cell_type": "markdown",
      "source": [
        "**Fifth Step: Implement our model**"
      ],
      "metadata": {
        "id": "qk35DwjiwbfT"
      },
      "id": "qk35DwjiwbfT"
    }
  ],
  "metadata": {
    "colab": {
      "provenance": [],
      "collapsed_sections": [],
      "include_colab_link": true
    },
    "kernelspec": {
      "display_name": "Python 3 (ipykernel)",
      "language": "python",
      "name": "python3"
    },
    "language_info": {
      "codemirror_mode": {
        "name": "ipython",
        "version": 3
      },
      "file_extension": ".py",
      "mimetype": "text/x-python",
      "name": "python",
      "nbconvert_exporter": "python",
      "pygments_lexer": "ipython3",
      "version": "3.9.12"
    }
  },
  "nbformat": 4,
  "nbformat_minor": 5
}